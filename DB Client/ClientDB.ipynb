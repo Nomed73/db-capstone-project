{
 "cells": [
  {
   "cell_type": "code",
   "execution_count": 1,
   "id": "ea80eb0a-e64c-461c-980f-51a85485edec",
   "metadata": {},
   "outputs": [
    {
     "name": "stdout",
     "output_type": "stream",
     "text": [
      "Requirement already satisfied: mysql-connector-python in /Users/Developer/dev/mysql_python_course_content/myenv/lib/python3.13/site-packages (9.2.0)\n",
      "\n",
      "\u001b[1m[\u001b[0m\u001b[34;49mnotice\u001b[0m\u001b[1;39;49m]\u001b[0m\u001b[39;49m A new release of pip is available: \u001b[0m\u001b[31;49m25.0\u001b[0m\u001b[39;49m -> \u001b[0m\u001b[32;49m25.0.1\u001b[0m\n",
      "\u001b[1m[\u001b[0m\u001b[34;49mnotice\u001b[0m\u001b[1;39;49m]\u001b[0m\u001b[39;49m To update, run: \u001b[0m\u001b[32;49m/Users/Developer/dev/mysql_python_course_content/myenv/bin/python -m pip install --upgrade pip\u001b[0m\n",
      "Note: you may need to restart the kernel to use updated packages.\n"
     ]
    }
   ],
   "source": [
    "pip install mysql-connector-python\n"
   ]
  },
  {
   "cell_type": "code",
   "execution_count": 2,
   "id": "bd736438-bb2a-4b02-987b-2b10eea44791",
   "metadata": {},
   "outputs": [],
   "source": [
    "import mysql.connector as connector"
   ]
  },
  {
   "cell_type": "code",
   "execution_count": 29,
   "id": "01c05bc2-b501-4aa6-b48d-dad5fb0125df",
   "metadata": {},
   "outputs": [
    {
     "name": "stdout",
     "output_type": "stream",
     "text": [
      "('Bookings',)\n",
      "('Customer',)\n",
      "('Menu',)\n",
      "('Menu_MenuItems',)\n",
      "('MenuItems',)\n",
      "('OrderDeliveryStatus',)\n",
      "('OrderItems',)\n",
      "('Orders',)\n",
      "('ordersview',)\n",
      "('Staff',)\n"
     ]
    }
   ],
   "source": [
    "connection = connector.connect(user=\"NM314\", password=\"Math13Rock$\", db = \"LittleLemonDB\")\n",
    "cursor = connection.cursor()\n",
    "\n",
    "show_table_query = \"SHOW TABLES\"\n",
    "cursor.execute(show_table_query)\n",
    "results = cursor.fetchall()\n",
    "for row in results:\n",
    "    print(row)"
   ]
  },
  {
   "cell_type": "code",
   "execution_count": 37,
   "id": "8c446504-dc4d-4876-99eb-466f5a0d37a2",
   "metadata": {},
   "outputs": [],
   "source": [
    "# Task #3\n",
    "\n",
    "customer_spend_over_60_query = \"\"\"\n",
    "select c.firstName, c.lastName, c.email, c.phone, (oi.quantity * oi.price) as billAmount\n",
    "from OrderItems oi \n",
    "join Orders o on oi.orderID = o.orderID\n",
    "join Bookings b on o.bookingID = b.bookingID\n",
    "join Customer c on b.customerID = c.customerID\n",
    "where oi.quantity * oi.price > 60;\n",
    "\"\"\"\n",
    "\n",
    "cursor.execute(customer_spend_over_60_query)\n",
    "results = cursor.fetchall()\n",
    "for row in results:\n",
    "    print(row)\n"
   ]
  },
  {
   "cell_type": "code",
   "execution_count": null,
   "id": "773b5578-40ed-4bc9-850d-f4a190ed1988",
   "metadata": {},
   "outputs": [],
   "source": []
  }
 ],
 "metadata": {
  "kernelspec": {
   "display_name": "Python (myenv)",
   "language": "python",
   "name": "myenv"
  },
  "language_info": {
   "codemirror_mode": {
    "name": "ipython",
    "version": 3
   },
   "file_extension": ".py",
   "mimetype": "text/x-python",
   "name": "python",
   "nbconvert_exporter": "python",
   "pygments_lexer": "ipython3",
   "version": "3.13.2"
  }
 },
 "nbformat": 4,
 "nbformat_minor": 5
}
